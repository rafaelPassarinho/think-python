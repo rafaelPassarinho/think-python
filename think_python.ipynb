{
 "cells": [
  {
   "attachments": {},
   "cell_type": "markdown",
   "metadata": {},
   "source": [
    "# Think Python: How to Think Like a Computer Scientist\n",
    "A book by Allen Downey\n",
    "\n",
    "## Chapter 3: Functions\n",
    "### Exercises\n",
    "#### 3.1 *Write a function named* right_justify *that takes a string named* s *as a parameter and prints the string with enough leading spaces so that the last letter of the string is in column 70 of the display*"
   ]
  },
  {
   "cell_type": "code",
   "execution_count": 4,
   "metadata": {},
   "outputs": [
    {
     "name": "stdout",
     "output_type": "stream",
     "text": [
      "                                                           Hello World\n"
     ]
    }
   ],
   "source": [
    "def right_justify(s):\n",
    "    print(' ' * (70 - len(s)) + s)\n",
    "\n",
    "right_justify(input())"
   ]
  },
  {
   "attachments": {},
   "cell_type": "markdown",
   "metadata": {},
   "source": [
    "#"
   ]
  }
 ],
 "metadata": {
  "kernelspec": {
   "display_name": "Python 3",
   "language": "python",
   "name": "python3"
  },
  "language_info": {
   "codemirror_mode": {
    "name": "ipython",
    "version": 3
   },
   "file_extension": ".py",
   "mimetype": "text/x-python",
   "name": "python",
   "nbconvert_exporter": "python",
   "pygments_lexer": "ipython3",
   "version": "3.10.4"
  },
  "orig_nbformat": 4
 },
 "nbformat": 4,
 "nbformat_minor": 2
}
